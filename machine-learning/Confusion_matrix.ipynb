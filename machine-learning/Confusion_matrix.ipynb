{
 "cells": [
  {
   "cell_type": "markdown",
   "id": "f5f34a61-b615-4446-8c55-f0974e8ca33b",
   "metadata": {},
   "source": [
    "# Confusion Matrix #"
   ]
  },
  {
   "cell_type": "markdown",
   "id": "1cdd691c-d046-4cfb-89dd-d377b00ec8a9",
   "metadata": {},
   "source": [
    "Exploring what a confusion matrix is and implementing it in python"
   ]
  },
  {
   "cell_type": "markdown",
   "id": "e237f235-10c2-447e-88f8-1b03cdd50afc",
   "metadata": {},
   "source": [
    "### What is it?"
   ]
  },
  {
   "cell_type": "markdown",
   "id": "23c7f54e-6029-4f3f-9ef6-44ffc8d1af46",
   "metadata": {},
   "source": [
    "A mtrix that summarises the performance of a classificationn model on a set of test data.\n",
    "A matrix is used to display the number of instnaces produced by the model on the test data and categorising it as follows:\n",
    "\n",
    "Actual values {True, False}\n",
    "Predicted values {Postive, Negative}\n",
    "\n",
    "**Here, \"False\" means the model is wrong, and \"True\" means it was right**\n",
    "\n",
    "- True Positive (TP): Model correclty predicted an outcome as positive (Predicted a pregnanat woman is pregnant)\n",
    "- True Negative (TN): Model correclty predicted an outcome as negative (Predicted a man to not be pregnant)\n",
    "- False Positive (FP): Model incorrectly predicted an outcome to be positive, when it is not (Predicted a man to be pregnant)\n",
    "- Fasle Negative (FN): Model incorrectly predicts an outcome as negative. when it is not (Predicted a woman to not be pregnant when she actually is)"
   ]
  },
  {
   "cell_type": "markdown",
   "id": "ce0912a1-1209-41a2-b7fa-e082561a3634",
   "metadata": {},
   "source": [
    "### Why do we need it?"
   ]
  },
  {
   "cell_type": "markdown",
   "id": "f77d43d7-56e3-42cd-b64a-f856291c18c6",
   "metadata": {},
   "source": [
    "Helps us to see where our model went wrong, it's much better to get a false alarm (False Positive) than to get a missed problem (False Negative). \n",
    "\n",
    "- For example, in a medical scenario it's much better to get a false alarm (saying you hav cancer when you actually don't, False Positive) than to get a missed diagnosis (saying you don't have cancer when you actually do, False Negative)"
   ]
  },
  {
   "cell_type": "markdown",
   "id": "f1cc2a56-5b1d-4174-aad3-269508e627a4",
   "metadata": {},
   "source": [
    "### Key performance metrics"
   ]
  },
  {
   "cell_type": "markdown",
   "id": "e8b9853d-faf8-4a8e-a6b0-7e268d978445",
   "metadata": {},
   "source": [
    "**Accuracy**: How often is the model correct overall?\n",
    "\n",
    "- (TP + TN) / (TN + TP + FN + FP)\n",
    "- Out of all the pregnacy tests, how many were correctly classified?"
   ]
  },
  {
   "cell_type": "markdown",
   "id": "14609e62-ac83-4cdd-a94a-aee08df44366",
   "metadata": {},
   "source": [
    "**Precision:** When the model says 'yes', how often is it right?\n",
    "\n",
    "- TP / (TP + FP)\n",
    "- When the test says 'pregnant', how often is it true?"
   ]
  },
  {
   "cell_type": "markdown",
   "id": "3206e265-a19f-41aa-bb33-06d209494986",
   "metadata": {},
   "source": [
    "**Recall(Sensitivity):** How well does it catch actuall positives?\n",
    "\n",
    "- TP / (TP + FN)\n",
    "- Out of all pregnant people, how many did we correclty identify?"
   ]
  },
  {
   "cell_type": "markdown",
   "id": "20b43760-bc5e-4f40-a4e5-2cc32c9b7bbb",
   "metadata": {},
   "source": [
    "**Specificity:** How well does it identify actual negatives?\n",
    "\n",
    "- TN / (TN + FP)\n",
    "- Out of all the non-pregnant people, how many did we correctly identify?"
   ]
  },
  {
   "cell_type": "markdown",
   "id": "9f91d344-5c58-4ac2-b8a8-bbd3978777fa",
   "metadata": {},
   "source": [
    "**F1-score:** Used to evaluate the overall performance of a classification model\n",
    "\n",
    "- 2 * Precision * Recall / Precision + Recall"
   ]
  },
  {
   "cell_type": "markdown",
   "id": "d29420cb-96ea-4d40-bd7b-3f9bc5864327",
   "metadata": {},
   "source": [
    "### Type 1 and Type 2 Errors"
   ]
  },
  {
   "cell_type": "markdown",
   "id": "5ebf516d-0258-4870-9d3b-e43795665146",
   "metadata": {},
   "source": [
    "**Type 1:** When a model identifies data as positive when it is actually negative\n",
    "\n",
    "**Type 2:** When a model identifies data as negative when it is actually positive"
   ]
  },
  {
   "cell_type": "markdown",
   "id": "18063622-e0e0-41e2-a1d1-5456f1d732e5",
   "metadata": {},
   "source": [
    "# Creating a Confusion Matrix"
   ]
  },
  {
   "cell_type": "code",
   "execution_count": 35,
   "id": "eb755d52-e796-4bd0-b00e-9f762f9b21d0",
   "metadata": {},
   "outputs": [],
   "source": [
    "import numpy"
   ]
  },
  {
   "cell_type": "code",
   "execution_count": 57,
   "id": "c5b93cb9-f7c4-4778-901e-d05e39ce162b",
   "metadata": {},
   "outputs": [],
   "source": [
    "actual = numpy.random.binomial(1,0.9, size = 1000)\n",
    "predicted = numpy.random.binomial(1, 0.9, size = 1000) # simulating a models prediction"
   ]
  },
  {
   "cell_type": "code",
   "execution_count": 41,
   "id": "2f0a571a-051a-43b1-ad99-ec6fefb148e8",
   "metadata": {},
   "outputs": [],
   "source": [
    "from sklearn import metrics # used to create confusion matrix"
   ]
  },
  {
   "cell_type": "code",
   "execution_count": 45,
   "id": "e8a30ade-4126-445b-9094-4879fdcead12",
   "metadata": {},
   "outputs": [],
   "source": [
    "confusion_matrix = metrics.confusion_matrix(actual, predicted)"
   ]
  },
  {
   "cell_type": "code",
   "execution_count": 47,
   "id": "62922d21-c705-4ed8-9d23-db428b58346b",
   "metadata": {},
   "outputs": [],
   "source": [
    "cm_display = metrics.ConfusionMatrixDisplay(confusion_matrix = confusion_matrix, display_labels = [0,1])"
   ]
  },
  {
   "cell_type": "code",
   "execution_count": 49,
   "id": "89203810-abbd-40f2-9c81-82731da639d1",
   "metadata": {},
   "outputs": [],
   "source": [
    "import matplotlib.pyplot as plt"
   ]
  },
  {
   "cell_type": "code",
   "execution_count": 51,
   "id": "7b161346-fa0d-4a2d-acc2-2c22010d4e0f",
   "metadata": {},
   "outputs": [
    {
     "data": {
      "image/png": "[encoded data removed]",
      "text/plain": [
       "<Figure size 640x480 with 2 Axes>"
      ]
     },
     "metadata": {},
     "output_type": "display_data"
    }
   ],
   "source": [
    "cm_display.plot()\n",
    "plt.show()"
   ]
  },
  {
   "cell_type": "markdown",
   "id": "a45b35a9-03de-49cd-be94-5fe11ec07b2e",
   "metadata": {},
   "source": [
    "### So what is going on above?"
   ]
  },
  {
   "cell_type": "markdown",
   "id": "71517868-be8c-4013-92c9-92cac565eb06",
   "metadata": {},
   "source": [
    "- We are creating 2 arrays of 1000 values, where each value is either a 0 or a 1\n",
    "- Each value within both arrays is compared by comparing them index wise, so:"
   ]
  },
  {
   "cell_type": "code",
   "execution_count": 61,
   "id": "d7549d53-a81b-4d1d-818d-1c07da9ccf65",
   "metadata": {},
   "outputs": [],
   "source": [
    "a = [1,0,1,1,0] # actual\n",
    "p = [1,0,0,0,1] # predicted\n",
    "#    ✓ ✓ ✗ ✗ ✗ where ✗ = incorrect predition, ✓ = correct prediction"
   ]
  },
  {
   "cell_type": "markdown",
   "id": "8f5ec590-69f2-4bf6-96b5-72d4c21b2973",
   "metadata": {},
   "source": [
    "- The sklearn library does all that counting for us as we have a 1000 numbers to get through"
   ]
  },
  {
   "cell_type": "markdown",
   "id": "75e2b96c-b476-4796-9a1a-1bc2628644cc",
   "metadata": {},
   "source": [
    "### Results explained"
   ]
  },
  {
   "cell_type": "markdown",
   "id": "f8be1c81-5ecd-45c1-97e1-9bba1130085f",
   "metadata": {},
   "source": [
    "- True Negative (Top-Left Quadrant)\n",
    "- False Positive (Top-Right Quadrant)\n",
    "- False Negative (Bottom-Left Quadrant)\n",
    "- True Positive (Bottom-Right Quadrant)"
   ]
  },
  {
   "cell_type": "markdown",
   "id": "a77b53bc-70b5-4aa3-abd0-73b87690cd20",
   "metadata": {},
   "source": [
    "# Metrics"
   ]
  },
  {
   "cell_type": "markdown",
   "id": "4fc818f8-4d53-4b6d-bb57-00134d653843",
   "metadata": {},
   "source": [
    "### Accruacy\n",
    "How often the model is correct"
   ]
  },
  {
   "cell_type": "code",
   "execution_count": 83,
   "id": "2951aba6-40a9-4e2f-ba84-a86fe1d30944",
   "metadata": {},
   "outputs": [],
   "source": [
    "# TP + TN / TP + TN + FP + FN\n",
    "# 821 / 1000\n",
    "accuracy = metrics.accuracy_score(actual, predicted)"
   ]
  },
  {
   "cell_type": "markdown",
   "id": "470123ed-e4ec-40c0-822c-aadc30781a8e",
   "metadata": {},
   "source": [
    "### Precision\n",
    "\n",
    "- Of all predicited positives, what percentage is truly positive?\n",
    "- Does not evaluate the correclty predicted negative cases"
   ]
  },
  {
   "cell_type": "code",
   "execution_count": 93,
   "id": "13a4018f-8532-48a6-aaa1-b4012567f7ba",
   "metadata": {},
   "outputs": [
    {
     "data": {
      "text/plain": [
       "0.907182320441989"
      ]
     },
     "execution_count": 93,
     "metadata": {},
     "output_type": "execute_result"
    }
   ],
   "source": [
    "# TP / (TP + FN)\n",
    "precision = metrics.precision_score(actual, predicted)\n",
    "precision"
   ]
  },
  {
   "cell_type": "markdown",
   "id": "1cbefdc8-f297-4199-9916-7bd719472201",
   "metadata": {},
   "source": [
    "#### Recall (Sensitivity)\n",
    "\n",
    "- Of all positive cases, what perecentage are predicted as positives?\n",
    "- Measures how good the model is at predicting positives\n",
    "- Looking at true positives and false negatives (positives labbeled to be negatives incorrectly)"
   ]
  },
  {
   "cell_type": "code",
   "execution_count": 100,
   "id": "2bc45988-5ea2-4b0c-bd77-0a273426cda0",
   "metadata": {},
   "outputs": [
    {
     "data": {
      "text/plain": [
       "0.9041850220264317"
      ]
     },
     "execution_count": 100,
     "metadata": {},
     "output_type": "execute_result"
    }
   ],
   "source": [
    "# TP / (TP + FN)\n",
    "recall = metrics.recall_score(actual, predicted)\n",
    "recall"
   ]
  },
  {
   "cell_type": "markdown",
   "id": "9c666eae-8de5-4d1f-bb5d-37a32fa8ce42",
   "metadata": {},
   "source": [
    "### Specificity\n",
    "\n",
    "- How well the model is at predicting negatives\n",
    "- Just the opposite of recall\n"
   ]
  },
  {
   "cell_type": "code",
   "execution_count": 107,
   "id": "8f1cd2a2-db4a-406f-b525-04875a240b73",
   "metadata": {},
   "outputs": [
    {
     "data": {
      "text/plain": [
       "0.08695652173913043"
      ]
     },
     "execution_count": 107,
     "metadata": {},
     "output_type": "execute_result"
    }
   ],
   "source": [
    "# TN / (TN + FP)\n",
    "specificity = metrics.recall_score(actual, predicted, pos_label=0)\n",
    "specificity"
   ]
  },
  {
   "cell_type": "markdown",
   "id": "07a89559-0188-409a-941c-b9199fac0927",
   "metadata": {},
   "source": [
    "### F-Score\n",
    "\n",
    "- \"Harmonic mean\" of precision of sensitivity\n",
    "- Considers both false positives and false negatives and it is good for imbalanced datasets\n"
   ]
  },
  {
   "cell_type": "code",
   "execution_count": 116,
   "id": "ba052977-c57b-428d-891c-7d2a380bb487",
   "metadata": {},
   "outputs": [
    {
     "data": {
      "text/plain": [
       "0.9056811913954771"
      ]
     },
     "execution_count": 116,
     "metadata": {},
     "output_type": "execute_result"
    }
   ],
   "source": [
    "f1_score = metrics.f1_score(actual, predicted)\n",
    "f1_score"
   ]
  },
  {
   "cell_type": "code",
   "execution_count": 120,
   "id": "14279814-d8cb-427e-83e0-7544510babd8",
   "metadata": {},
   "outputs": [
    {
     "name": "stdout",
     "output_type": "stream",
     "text": [
      "{'Accuracy': 0.829, 'Precision': 0.907182320441989, 'Sensitivity_recall': 0.9041850220264317, 'Specificity': 0.08695652173913043, 'F1_score': 0.9056811913954771}\n"
     ]
    }
   ],
   "source": [
    "print({\"Accuracy\":accuracy,\"Precision\":precision,\"Sensitivity_recall\":recall,\"Specificity\":specificity,\"F1_score\":f1_score})\n"
   ]
  }
 ],
 "metadata": {
  "kernelspec": {
   "display_name": "Python 3 (ipykernel)",
   "language": "python",
   "name": "python3"
  },
  "language_info": {
   "codemirror_mode": {
    "name": "ipython",
    "version": 3
   },
   "file_extension": ".py",
   "mimetype": "text/x-python",
   "name": "python",
   "nbconvert_exporter": "python",
   "pygments_lexer": "ipython3",
   "version": "3.12.4"
  }
 },
 "nbformat": 4,
 "nbformat_minor": 5
}
